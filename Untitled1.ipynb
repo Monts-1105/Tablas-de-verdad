{
 "cells": [
  {
   "cell_type": "code",
   "execution_count": null,
   "id": "46e25ee2",
   "metadata": {},
   "outputs": [],
   "source": []
  },
  {
   "cell_type": "code",
   "execution_count": 1,
   "id": "2a23172d",
   "metadata": {
    "scrolled": true
   },
   "outputs": [
    {
     "name": "stdout",
     "output_type": "stream",
     "text": [
      "+-----+-----+\n",
      "|  p  |  q  |\n",
      "|-----+-----|\n",
      "|  1  |  1  |\n",
      "|  1  |  0  |\n",
      "|  0  |  1  |\n",
      "|  0  |  0  |\n",
      "+-----+-----+\n"
     ]
    }
   ],
   "source": [
    "import ttg\n",
    "print(ttg.Truths(['p', 'q']))"
   ]
  },
  {
   "cell_type": "code",
   "execution_count": 2,
   "id": "d13b0f38",
   "metadata": {},
   "outputs": [
    {
     "name": "stdout",
     "output_type": "stream",
     "text": [
      "+-----+-----+-----+\n",
      "|  p  |  q  |  r  |\n",
      "|-----+-----+-----|\n",
      "|  1  |  1  |  1  |\n",
      "|  1  |  1  |  0  |\n",
      "|  1  |  0  |  1  |\n",
      "|  1  |  0  |  0  |\n",
      "|  0  |  1  |  1  |\n",
      "|  0  |  1  |  0  |\n",
      "|  0  |  0  |  1  |\n",
      "|  0  |  0  |  0  |\n",
      "+-----+-----+-----+\n"
     ]
    }
   ],
   "source": [
    "print(ttg.Truths(['p', 'q', 'r']))"
   ]
  },
  {
   "cell_type": "code",
   "execution_count": 3,
   "id": "aa5e5559",
   "metadata": {},
   "outputs": [
    {
     "name": "stdout",
     "output_type": "stream",
     "text": [
      "+-----+-----+-----+-----------------+---------------+--------------------+\n",
      "|  p  |  q  |  r  |  p and q and r  |  p or q or r  |  (p or (~q)) => r  |\n",
      "|-----+-----+-----+-----------------+---------------+--------------------|\n",
      "|  1  |  1  |  1  |        1        |       1       |         1          |\n",
      "|  1  |  1  |  0  |        0        |       1       |         0          |\n",
      "|  1  |  0  |  1  |        0        |       1       |         1          |\n",
      "|  1  |  0  |  0  |        0        |       1       |         0          |\n",
      "|  0  |  1  |  1  |        0        |       1       |         1          |\n",
      "|  0  |  1  |  0  |        0        |       1       |         1          |\n",
      "|  0  |  0  |  1  |        0        |       1       |         1          |\n",
      "|  0  |  0  |  0  |        0        |       0       |         0          |\n",
      "+-----+-----+-----+-----------------+---------------+--------------------+\n"
     ]
    }
   ],
   "source": [
    "print(ttg.Truths(['p', 'q', 'r'], ['p and q and r', 'p or q or r', '(p or (~q)) => r']))"
   ]
  },
  {
   "cell_type": "markdown",
   "id": "63fd615b",
   "metadata": {},
   "source": [
    "<h1>Ejemplos de las Tablas de verdad</h1>\n",
    "<l1\n",
    "    negation: 'not', '-', '~'\n",
    "    logical disjunction: 'or'\n",
    "    logical nor: 'nor'\n",
    "    exclusive disjunction: 'xor', '!='\n",
    "    logical conjunction: 'and'\n",
    "    logical NAND: 'nand'\n",
    "    material implication: '=>', 'implies'\n",
    "    logical biconditional: '=' \n",
    "    </l1>"
   ]
  },
  {
   "cell_type": "code",
   "execution_count": 9,
   "id": "db5e8b69",
   "metadata": {},
   "outputs": [
    {
     "name": "stdout",
     "output_type": "stream",
     "text": [
      "+-----+---------+\n",
      "|  p  |  not p  |\n",
      "|-----+---------|\n",
      "|  1  |    0    |\n",
      "|  0  |    1    |\n",
      "+-----+---------+\n"
     ]
    }
   ],
   "source": [
    "print(ttg.Truths(['p'],['not p']))"
   ]
  },
  {
   "cell_type": "code",
   "execution_count": 4,
   "id": "4a27ca88",
   "metadata": {},
   "outputs": [
    {
     "name": "stdout",
     "output_type": "stream",
     "text": [
      "+-----+-----+----------+\n",
      "|  p  |  q  |  p or q  |\n",
      "|-----+-----+----------|\n",
      "|  1  |  1  |    1     |\n",
      "|  1  |  0  |    1     |\n",
      "|  0  |  1  |    1     |\n",
      "|  0  |  0  |    0     |\n",
      "+-----+-----+----------+\n"
     ]
    }
   ],
   "source": [
    "print(ttg.Truths(['p','q'],['p or q']))"
   ]
  },
  {
   "cell_type": "code",
   "execution_count": 5,
   "id": "38dfd6b9",
   "metadata": {},
   "outputs": [
    {
     "name": "stdout",
     "output_type": "stream",
     "text": [
      "+-----+-----+-----------+\n",
      "|  p  |  q  |  p xor q  |\n",
      "|-----+-----+-----------|\n",
      "|  1  |  1  |     0     |\n",
      "|  1  |  0  |     1     |\n",
      "|  0  |  1  |     1     |\n",
      "|  0  |  0  |     0     |\n",
      "+-----+-----+-----------+\n"
     ]
    }
   ],
   "source": [
    "print(ttg.Truths(['p','q'],['p xor q']))"
   ]
  },
  {
   "cell_type": "code",
   "execution_count": 6,
   "id": "58726e81",
   "metadata": {},
   "outputs": [
    {
     "name": "stdout",
     "output_type": "stream",
     "text": [
      "+-----+-----+-----------+\n",
      "|  p  |  q  |  p and q  |\n",
      "|-----+-----+-----------|\n",
      "|  1  |  1  |     1     |\n",
      "|  1  |  0  |     0     |\n",
      "|  0  |  1  |     0     |\n",
      "|  0  |  0  |     0     |\n",
      "+-----+-----+-----------+\n"
     ]
    }
   ],
   "source": [
    "print(ttg.Truths(['p','q'],['p and q']))"
   ]
  },
  {
   "cell_type": "code",
   "execution_count": 7,
   "id": "efef19e4",
   "metadata": {},
   "outputs": [
    {
     "name": "stdout",
     "output_type": "stream",
     "text": [
      "+-----+-----+------------+\n",
      "|  p  |  q  |  p nand q  |\n",
      "|-----+-----+------------|\n",
      "|  1  |  1  |     0      |\n",
      "|  1  |  0  |     1      |\n",
      "|  0  |  1  |     1      |\n",
      "|  0  |  0  |     1      |\n",
      "+-----+-----+------------+\n"
     ]
    }
   ],
   "source": [
    "print(ttg.Truths(['p','q'],['p nand q']))"
   ]
  },
  {
   "cell_type": "code",
   "execution_count": 8,
   "id": "a56d82ad",
   "metadata": {},
   "outputs": [
    {
     "name": "stdout",
     "output_type": "stream",
     "text": [
      "+-----+-----+---------+\n",
      "|  p  |  q  |  p = q  |\n",
      "|-----+-----+---------|\n",
      "|  1  |  1  |    1    |\n",
      "|  1  |  0  |    0    |\n",
      "|  0  |  1  |    0    |\n",
      "|  0  |  0  |    1    |\n",
      "+-----+-----+---------+\n"
     ]
    }
   ],
   "source": [
    "print(ttg.Truths(['p','q'],['p = q']))"
   ]
  },
  {
   "cell_type": "code",
   "execution_count": null,
   "id": "4976f452",
   "metadata": {},
   "outputs": [],
   "source": []
  }
 ],
 "metadata": {
  "kernelspec": {
   "display_name": "Python 3 (ipykernel)",
   "language": "python",
   "name": "python3"
  },
  "language_info": {
   "codemirror_mode": {
    "name": "ipython",
    "version": 3
   },
   "file_extension": ".py",
   "mimetype": "text/x-python",
   "name": "python",
   "nbconvert_exporter": "python",
   "pygments_lexer": "ipython3",
   "version": "3.11.4"
  }
 },
 "nbformat": 4,
 "nbformat_minor": 5
}
