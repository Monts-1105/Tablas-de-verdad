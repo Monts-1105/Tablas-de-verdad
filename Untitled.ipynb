{
 "cells": [
  {
   "cell_type": "markdown",
   "id": "73959f5f",
   "metadata": {},
   "source": [
    "<img src = uv.png width = 150>\n",
    "<center>\n",
    "    Universidad Veracruzana\n",
    "</center>\n",
    "    <h1>Lógica</h1>\n",
    "    <h2>Mi primer *codigo en python**"
   ]
  },
  {
   "cell_type": "code",
   "execution_count": 5,
   "id": "875b350c",
   "metadata": {},
   "outputs": [
    {
     "name": "stdout",
     "output_type": "stream",
     "text": [
      "hola mundo\n"
     ]
    }
   ],
   "source": [
    "print(\"hola mundo\")"
   ]
  },
  {
   "cell_type": "code",
   "execution_count": 2,
   "id": "5a9e57c3",
   "metadata": {},
   "outputs": [
    {
     "name": "stdout",
     "output_type": "stream",
     "text": [
      "Ingenieria de Software\n"
     ]
    }
   ],
   "source": [
    "print(\"Ingenieria de Software\")"
   ]
  },
  {
   "cell_type": "code",
   "execution_count": 3,
   "id": "e21134b9",
   "metadata": {},
   "outputs": [
    {
     "name": "stdout",
     "output_type": "stream",
     "text": [
      "Monse\n"
     ]
    }
   ],
   "source": [
    "nombre = \"Monse\"\n",
    "print(nombre)"
   ]
  },
  {
   "cell_type": "code",
   "execution_count": 4,
   "id": "2aad6f98",
   "metadata": {},
   "outputs": [
    {
     "name": "stdout",
     "output_type": "stream",
     "text": [
      "8274874832\n"
     ]
    }
   ],
   "source": [
    "numero=8274874832\n",
    "print(numero)"
   ]
  },
  {
   "cell_type": "code",
   "execution_count": null,
   "id": "2a34fb1c",
   "metadata": {},
   "outputs": [],
   "source": []
  }
 ],
 "metadata": {
  "kernelspec": {
   "display_name": "Python 3 (ipykernel)",
   "language": "python",
   "name": "python3"
  },
  "language_info": {
   "codemirror_mode": {
    "name": "ipython",
    "version": 3
   },
   "file_extension": ".py",
   "mimetype": "text/x-python",
   "name": "python",
   "nbconvert_exporter": "python",
   "pygments_lexer": "ipython3",
   "version": "3.11.4"
  }
 },
 "nbformat": 4,
 "nbformat_minor": 5
}
