{
 "cells": [
  {
   "cell_type": "markdown",
   "id": "03d2a634",
   "metadata": {},
   "source": [
    "<h1>Tablas de verdad v4</h1>\n",
    "Las tablas de verdad son herramientas representadas a través de varios gráficos de filas y columnas que muestran todos los posibles escenarios y condiciones de valores de entrada para una operación lógica y su resultado correspondiente.\n",
    "\n",
    "Su función base es mostrar cómo funcionan un circuito electrónico y los programas de una computadora, siendo también un pilar de la lógica proposicional.\n",
    "\n",
    "<img src = \"https://tomi-digital-resources.storage.googleapis.com/images/classes/resources/rsc-352766-5f63917ae437f.jpeg\" width=500>\n",
    "\n",
    "La tabla de verdad fue inventada por Charles Peirce en los años 1880, pero el formato más usado es el de Ludwig Wittgenstein, quién lo desarrolló en el \"Tractatus logico-philosophicus\", que fue dado a conocer al público en 1918 por Bertrand Russell.\n",
    "\n",
    "Recoge todas las combinaciones posibles de una serie de variables, así como el resultado de una cierta operación entre ellas.\n",
    "Las reglas de la tabla de verdad que sirven para validar o invalidar razonamientos:\n"
   ]
  },
  {
   "cell_type": "code",
   "execution_count": 15,
   "id": "fe4bb5af",
   "metadata": {},
   "outputs": [],
   "source": [
    "numero = 19\n",
    "nombre = \"Rafa\""
   ]
  },
  {
   "cell_type": "code",
   "execution_count": 16,
   "id": "407cabf7",
   "metadata": {},
   "outputs": [
    {
     "name": "stdout",
     "output_type": "stream",
     "text": [
      "19\n"
     ]
    }
   ],
   "source": [
    "print (numero)"
   ]
  },
  {
   "cell_type": "code",
   "execution_count": 17,
   "id": "841ea53a",
   "metadata": {},
   "outputs": [],
   "source": [
    "nombre = \"Monts\""
   ]
  },
  {
   "cell_type": "code",
   "execution_count": 18,
   "id": "be671d1a",
   "metadata": {},
   "outputs": [
    {
     "name": "stdout",
     "output_type": "stream",
     "text": [
      "Monts\n"
     ]
    }
   ],
   "source": [
    "print (nombre)"
   ]
  },
  {
   "cell_type": "code",
   "execution_count": 19,
   "id": "89581c15",
   "metadata": {},
   "outputs": [],
   "source": [
    "booleano = True"
   ]
  },
  {
   "cell_type": "code",
   "execution_count": 20,
   "id": "c9d6054d",
   "metadata": {},
   "outputs": [
    {
     "name": "stdout",
     "output_type": "stream",
     "text": [
      "Es tu nombre piolin: Montse\n"
     ]
    }
   ],
   "source": [
    "nombre = input(\"Es tu nombre piolin: \")"
   ]
  },
  {
   "cell_type": "code",
   "execution_count": 21,
   "id": "7e8a7d1e",
   "metadata": {},
   "outputs": [
    {
     "name": "stdout",
     "output_type": "stream",
     "text": [
      "Montse\n"
     ]
    }
   ],
   "source": [
    "print(nombre)"
   ]
  },
  {
   "cell_type": "code",
   "execution_count": 1,
   "id": "810e530c",
   "metadata": {},
   "outputs": [
    {
     "name": "stdout",
     "output_type": "stream",
     "text": [
      "18\n"
     ]
    }
   ],
   "source": [
    "edad = 18\n",
    "print (edad)"
   ]
  },
  {
   "cell_type": "code",
   "execution_count": 2,
   "id": "0ff16a8e",
   "metadata": {},
   "outputs": [
    {
     "name": "stdout",
     "output_type": "stream",
     "text": [
      "Montse\n"
     ]
    }
   ],
   "source": [
    "nombre = \"Montse\"\n",
    "print (nombre)"
   ]
  },
  {
   "cell_type": "code",
   "execution_count": 3,
   "id": "d0bf756f",
   "metadata": {},
   "outputs": [
    {
     "name": "stdout",
     "output_type": "stream",
     "text": [
      "¿Cuántos años tienes?: 18\n"
     ]
    }
   ],
   "source": [
    "edad = input(\"¿Cuántos años tienes?: \")"
   ]
  },
  {
   "cell_type": "markdown",
   "id": "2389afde",
   "metadata": {},
   "source": [
    "<h1> Regresando a las tablas de verdad </h1>\n",
    "En python existen muchas bibliotecas con diferentes funcionalidades, casi para todo. Para el caso de las tablas de verdad existen la biblioteca truth-table-generator conocida como ttg.\n",
    "\n",
    "https://pypi.org/project/truth-table-generator/"
   ]
  },
  {
   "cell_type": "markdown",
   "id": "aff30e9f",
   "metadata": {},
   "source": [
    "Para instalar es necesario ejecutar este comando:"
   ]
  },
  {
   "cell_type": "code",
   "execution_count": 5,
   "id": "1e3a646f",
   "metadata": {
    "scrolled": false
   },
   "outputs": [
    {
     "name": "stdout",
     "output_type": "stream",
     "text": [
      "Requirement already satisfied: truth-table-generator in c:\\users\\zs23017382\\appdata\\local\\anaconda3\\lib\\site-packages (1.1.2)\n",
      "Requirement already satisfied: numpy in c:\\users\\zs23017382\\appdata\\local\\anaconda3\\lib\\site-packages (from truth-table-generator) (1.24.3)\n",
      "Requirement already satisfied: pandas in c:\\users\\zs23017382\\appdata\\local\\anaconda3\\lib\\site-packages (from truth-table-generator) (1.5.3)\n",
      "Requirement already satisfied: PTable in c:\\users\\zs23017382\\appdata\\local\\anaconda3\\lib\\site-packages (from truth-table-generator) (0.9.2)\n",
      "Requirement already satisfied: pyparsing in c:\\users\\zs23017382\\appdata\\local\\anaconda3\\lib\\site-packages (from truth-table-generator) (3.0.9)\n",
      "Requirement already satisfied: tabulate in c:\\users\\zs23017382\\appdata\\local\\anaconda3\\lib\\site-packages (from truth-table-generator) (0.8.10)\n",
      "Requirement already satisfied: jinja2 in c:\\users\\zs23017382\\appdata\\local\\anaconda3\\lib\\site-packages (from truth-table-generator) (3.1.2)\n",
      "Requirement already satisfied: MarkupSafe>=2.0 in c:\\users\\zs23017382\\appdata\\local\\anaconda3\\lib\\site-packages (from jinja2->truth-table-generator) (2.1.1)\n",
      "Requirement already satisfied: python-dateutil>=2.8.1 in c:\\users\\zs23017382\\appdata\\local\\anaconda3\\lib\\site-packages (from pandas->truth-table-generator) (2.8.2)\n",
      "Requirement already satisfied: pytz>=2020.1 in c:\\users\\zs23017382\\appdata\\local\\anaconda3\\lib\\site-packages (from pandas->truth-table-generator) (2022.7)\n",
      "Requirement already satisfied: six>=1.5 in c:\\users\\zs23017382\\appdata\\local\\anaconda3\\lib\\site-packages (from python-dateutil>=2.8.1->pandas->truth-table-generator) (1.16.0)\n",
      "Note: you may need to restart the kernel to use updated packages.\n"
     ]
    }
   ],
   "source": [
    "pip install truth-table-generator"
   ]
  },
  {
   "cell_type": "markdown",
   "id": "9c9cfdf3",
   "metadata": {},
   "source": [
    "Para importar la biblioteca se utiliza:"
   ]
  },
  {
   "cell_type": "code",
   "execution_count": 3,
   "id": "a39abf09",
   "metadata": {},
   "outputs": [],
   "source": [
    "import ttg"
   ]
  },
  {
   "cell_type": "markdown",
   "id": "7c816e3a",
   "metadata": {},
   "source": [
    "Una tabla de verdad tiene una columna para cada variable de entrada (por ejemplo, pyq ) y una columna final que muestra todos los resultados posibles de la operación lógica que representa la tabla.\n",
    "Por ejemplo, si tenemos dos proposiciones. p, q podemos escribir el siguiente código:"
   ]
  },
  {
   "cell_type": "code",
   "execution_count": 12,
   "id": "a6d48f4a",
   "metadata": {},
   "outputs": [
    {
     "name": "stdout",
     "output_type": "stream",
     "text": [
      "+-----+-----+\n",
      "|  p  |  q  |\n",
      "|-----+-----|\n",
      "|  1  |  1  |\n",
      "|  1  |  0  |\n",
      "|  0  |  1  |\n",
      "|  0  |  0  |\n",
      "+-----+-----+\n"
     ]
    }
   ],
   "source": [
    "print(ttg.Truths([ 'p' ,  'q' ]))"
   ]
  },
  {
   "cell_type": "markdown",
   "id": "68d3c7e4",
   "metadata": {},
   "source": [
    "También podemos agragar tres, cuatro o más proposiciones, por ejemplo:"
   ]
  },
  {
   "cell_type": "code",
   "execution_count": 13,
   "id": "331d51cf",
   "metadata": {},
   "outputs": [
    {
     "name": "stdout",
     "output_type": "stream",
     "text": [
      "+-----+-----+-----+\n",
      "|  p  |  q  |  r  |\n",
      "|-----+-----+-----|\n",
      "|  1  |  1  |  1  |\n",
      "|  1  |  1  |  0  |\n",
      "|  1  |  0  |  1  |\n",
      "|  1  |  0  |  0  |\n",
      "|  0  |  1  |  1  |\n",
      "|  0  |  1  |  0  |\n",
      "|  0  |  0  |  1  |\n",
      "|  0  |  0  |  0  |\n",
      "+-----+-----+-----+\n"
     ]
    }
   ],
   "source": [
    "print(ttg.Truths(['p', 'q', 'r']))"
   ]
  },
  {
   "cell_type": "markdown",
   "id": "54bdfc59",
   "metadata": {},
   "source": [
    "<h1> Operadores y sus representaciones </h1>\n",
    "\n",
    "<br>\n",
    "<li>negación : 'not', '-','~'\n",
    "<li>disyunción lógica :'or'\n",
    "<li>lógico ni :'nor'\n",
    "<li>disyunción exclusiva : 'xor','!='\n",
    "<li>conjunción lógica : 'and'\n",
    "<li>NAND lógica :'nand'\n",
    "<li>implicación material : '=>','implies'\n",
    "<li>bicondicional lógico :'='\n",
    "<br>    \n",
    "Nota : ¡Utilice paréntesis! Especialmente con el operador de negación. Utilice las tablas de arriba y de abajo como referencia. Aunque se utilizan reglas de precedencia, a veces la precedencia entre conjunción y disyunción no se especifica y es necesario proporcionarla explícitamente en una fórmula determinada entre paréntesis."
   ]
  },
  {
   "cell_type": "markdown",
   "id": "1a19f99f",
   "metadata": {},
   "source": [
    "<h1> Ejercicios </h1>"
   ]
  },
  {
   "cell_type": "code",
   "execution_count": 7,
   "id": "0372b324",
   "metadata": {},
   "outputs": [
    {
     "name": "stdout",
     "output_type": "stream",
     "text": [
      "+-----+-----+-----------+\n",
      "|  p  |  q  |  p and q  |\n",
      "|-----+-----+-----------|\n",
      "|  1  |  1  |     1     |\n",
      "|  1  |  0  |     0     |\n",
      "|  0  |  1  |     0     |\n",
      "|  0  |  0  |     0     |\n",
      "+-----+-----+-----------+\n"
     ]
    }
   ],
   "source": [
    "#Ejercicio 1\n",
    "print(ttg.Truths([ 'p' ,  'q' ], ['p and q']))"
   ]
  },
  {
   "cell_type": "code",
   "execution_count": 10,
   "id": "94e9bd91",
   "metadata": {},
   "outputs": [
    {
     "name": "stdout",
     "output_type": "stream",
     "text": [
      "+-----+-----+-----+-----------+-------------------+\n",
      "|  p  |  q  |  r  |  p and q  |  (p and q) and r  |\n",
      "|-----+-----+-----+-----------+-------------------|\n",
      "|  1  |  1  |  1  |     1     |         1         |\n",
      "|  1  |  1  |  0  |     1     |         0         |\n",
      "|  1  |  0  |  1  |     0     |         0         |\n",
      "|  1  |  0  |  0  |     0     |         0         |\n",
      "|  0  |  1  |  1  |     0     |         0         |\n",
      "|  0  |  1  |  0  |     0     |         0         |\n",
      "|  0  |  0  |  1  |     0     |         0         |\n",
      "|  0  |  0  |  0  |     0     |         0         |\n",
      "+-----+-----+-----+-----------+-------------------+\n"
     ]
    }
   ],
   "source": [
    "#Ejercicio 2\n",
    "print(ttg.Truths([ 'p' ,  'q', 'r' ], ['p and q', '(p and q) and r']))"
   ]
  },
  {
   "cell_type": "code",
   "execution_count": 11,
   "id": "453d97ad",
   "metadata": {},
   "outputs": [
    {
     "name": "stdout",
     "output_type": "stream",
     "text": [
      "+-----+-----+-------------------+---------------+-------------------------+-------------------------------------------+\n",
      "|  p  |  q  |  p implies not q  |  p and not q  |  not (p implies not q)  |  not (p implies not q) and (p and not q)  |\n",
      "|-----+-----+-------------------+---------------+-------------------------+-------------------------------------------|\n",
      "|  1  |  1  |         0         |       0       |            1            |                     0                     |\n",
      "|  1  |  0  |         1         |       1       |            0            |                     0                     |\n",
      "|  0  |  1  |         1         |       0       |            0            |                     0                     |\n",
      "|  0  |  0  |         1         |       0       |            0            |                     0                     |\n",
      "+-----+-----+-------------------+---------------+-------------------------+-------------------------------------------+\n"
     ]
    }
   ],
   "source": [
    "#Ejercicio 3\n",
    "print(ttg.Truths([ 'p' ,  'q'], ['p implies not q', 'p and not q', 'not (p implies not q)', 'not (p implies not q) and (p and not q)']))"
   ]
  },
  {
   "cell_type": "code",
   "execution_count": 5,
   "id": "108eb4c0",
   "metadata": {},
   "outputs": [
    {
     "name": "stdout",
     "output_type": "stream",
     "text": [
      "+-----+-----+-----------------------------+\n",
      "|  p  |  q  |  (p and q) or (p or not q)  |\n",
      "|-----+-----+-----------------------------|\n",
      "|  1  |  1  |              1              |\n",
      "|  1  |  0  |              1              |\n",
      "|  0  |  1  |              0              |\n",
      "|  0  |  0  |              1              |\n",
      "+-----+-----+-----------------------------+\n"
     ]
    }
   ],
   "source": [
    "#Ejercicio 4\n",
    "print(ttg.Truths([ 'p' ,  'q'], ['(p and q) or (p or not q)']))"
   ]
  },
  {
   "cell_type": "code",
   "execution_count": 4,
   "id": "ba1256a7",
   "metadata": {},
   "outputs": [
    {
     "name": "stdout",
     "output_type": "stream",
     "text": [
      "+-----+-----+-----+-----------------+\n",
      "|  p  |  q  |  r  |  p and q and r  |\n",
      "|-----+-----+-----+-----------------|\n",
      "|  1  |  1  |  1  |        1        |\n",
      "|  1  |  1  |  0  |        0        |\n",
      "|  1  |  0  |  1  |        0        |\n",
      "|  1  |  0  |  0  |        0        |\n",
      "|  0  |  1  |  1  |        0        |\n",
      "|  0  |  1  |  0  |        0        |\n",
      "|  0  |  0  |  1  |        0        |\n",
      "|  0  |  0  |  0  |        0        |\n",
      "+-----+-----+-----+-----------------+\n"
     ]
    }
   ],
   "source": [
    "#Ejercicio 5\n",
    "print(ttg.Truths([ 'p' ,  'q', 'r'], ['p and q and r']))"
   ]
  },
  {
   "cell_type": "code",
   "execution_count": 6,
   "id": "463268df",
   "metadata": {},
   "outputs": [
    {
     "name": "stdout",
     "output_type": "stream",
     "text": [
      "+-----+-----+---------------------------------------+\n",
      "|  p  |  q  |  not (p and not q) and (p and not q)  |\n",
      "|-----+-----+---------------------------------------|\n",
      "|  1  |  1  |                   0                   |\n",
      "|  1  |  0  |                   0                   |\n",
      "|  0  |  1  |                   0                   |\n",
      "|  0  |  0  |                   0                   |\n",
      "+-----+-----+---------------------------------------+\n"
     ]
    }
   ],
   "source": [
    "#Ejercicio 6\n",
    "print(ttg.Truths([ 'p' ,  'q'], ['not (p and not q) and (p and not q)']))"
   ]
  },
  {
   "cell_type": "code",
   "execution_count": 17,
   "id": "b39bce42",
   "metadata": {},
   "outputs": [
    {
     "name": "stdout",
     "output_type": "stream",
     "text": [
      "+-----+-----+------------------------------------------------+\n",
      "|  p  |  q  |  not(not((not p and not q) or (p and not q)))  |\n",
      "|-----+-----+------------------------------------------------|\n",
      "|  1  |  1  |                       0                        |\n",
      "|  1  |  0  |                       1                        |\n",
      "|  0  |  1  |                       0                        |\n",
      "|  0  |  0  |                       1                        |\n",
      "+-----+-----+------------------------------------------------+\n"
     ]
    }
   ],
   "source": [
    "#Ejercicio 7\n",
    "print(ttg.Truths([ 'p' ,  'q'], ['not(not((not p and not q) or (p and not q)))']))"
   ]
  },
  {
   "cell_type": "code",
   "execution_count": 9,
   "id": "94c58da9",
   "metadata": {},
   "outputs": [
    {
     "name": "stdout",
     "output_type": "stream",
     "text": [
      "+-----+-----+-----+----------------+\n",
      "|  p  |  q  |  r  |  p or q and r  |\n",
      "|-----+-----+-----+----------------|\n",
      "|  1  |  1  |  1  |       1        |\n",
      "|  1  |  1  |  0  |       1        |\n",
      "|  1  |  0  |  1  |       1        |\n",
      "|  1  |  0  |  0  |       1        |\n",
      "|  0  |  1  |  1  |       1        |\n",
      "|  0  |  1  |  0  |       0        |\n",
      "|  0  |  0  |  1  |       0        |\n",
      "|  0  |  0  |  0  |       0        |\n",
      "+-----+-----+-----+----------------+\n"
     ]
    }
   ],
   "source": [
    "#Ejercicio 8\n",
    "print(ttg.Truths([ 'p' ,  'q', 'r'], ['p or q and r']))"
   ]
  },
  {
   "cell_type": "code",
   "execution_count": 10,
   "id": "26bb736f",
   "metadata": {},
   "outputs": [
    {
     "name": "stdout",
     "output_type": "stream",
     "text": [
      "+-----+-----+-----------------------------------------------+\n",
      "|  p  |  q  |  not (not p and not q) and (not p and not q)  |\n",
      "|-----+-----+-----------------------------------------------|\n",
      "|  1  |  1  |                       0                       |\n",
      "|  1  |  0  |                       0                       |\n",
      "|  0  |  1  |                       0                       |\n",
      "|  0  |  0  |                       0                       |\n",
      "+-----+-----+-----------------------------------------------+\n"
     ]
    }
   ],
   "source": [
    "#Ejercicio 9\n",
    "print(ttg.Truths([ 'p' ,  'q'], ['not (not p and not q) and (not p and not q)']))"
   ]
  },
  {
   "cell_type": "code",
   "execution_count": 11,
   "id": "6bf81edc",
   "metadata": {},
   "outputs": [
    {
     "name": "stdout",
     "output_type": "stream",
     "text": [
      "+-----+-----+-----+--------------------+\n",
      "|  p  |  q  |  r  |  p or q and not r  |\n",
      "|-----+-----+-----+--------------------|\n",
      "|  1  |  1  |  1  |         1          |\n",
      "|  1  |  1  |  0  |         1          |\n",
      "|  1  |  0  |  1  |         1          |\n",
      "|  1  |  0  |  0  |         1          |\n",
      "|  0  |  1  |  1  |         0          |\n",
      "|  0  |  1  |  0  |         1          |\n",
      "|  0  |  0  |  1  |         0          |\n",
      "|  0  |  0  |  0  |         0          |\n",
      "+-----+-----+-----+--------------------+\n"
     ]
    }
   ],
   "source": [
    "#Ejercicio 10\n",
    "print(ttg.Truths([ 'p' ,  'q', 'r'], ['p or q and not r']))"
   ]
  },
  {
   "cell_type": "code",
   "execution_count": 12,
   "id": "028eda93",
   "metadata": {},
   "outputs": [
    {
     "name": "stdout",
     "output_type": "stream",
     "text": [
      "+-----+-----+-----+---------------------+\n",
      "|  p  |  q  |  r  |  p and q implies r  |\n",
      "|-----+-----+-----+---------------------|\n",
      "|  1  |  1  |  1  |          1          |\n",
      "|  1  |  1  |  0  |          0          |\n",
      "|  1  |  0  |  1  |          1          |\n",
      "|  1  |  0  |  0  |          1          |\n",
      "|  0  |  1  |  1  |          1          |\n",
      "|  0  |  1  |  0  |          1          |\n",
      "|  0  |  0  |  1  |          1          |\n",
      "|  0  |  0  |  0  |          1          |\n",
      "+-----+-----+-----+---------------------+\n"
     ]
    }
   ],
   "source": [
    "#Ejercicio 11\n",
    "print(ttg.Truths([ 'p' ,  'q', 'r'], ['p and q implies r']))"
   ]
  },
  {
   "cell_type": "code",
   "execution_count": 13,
   "id": "54e1f36b",
   "metadata": {},
   "outputs": [
    {
     "name": "stdout",
     "output_type": "stream",
     "text": [
      "+-----+-----+-----+-------------------------+\n",
      "|  p  |  q  |  r  |  p and q implies not r  |\n",
      "|-----+-----+-----+-------------------------|\n",
      "|  1  |  1  |  1  |            0            |\n",
      "|  1  |  1  |  0  |            1            |\n",
      "|  1  |  0  |  1  |            1            |\n",
      "|  1  |  0  |  0  |            1            |\n",
      "|  0  |  1  |  1  |            1            |\n",
      "|  0  |  1  |  0  |            1            |\n",
      "|  0  |  0  |  1  |            1            |\n",
      "|  0  |  0  |  0  |            1            |\n",
      "+-----+-----+-----+-------------------------+\n"
     ]
    }
   ],
   "source": [
    "#Ejercicio 12\n",
    "print(ttg.Truths([ 'p' ,  'q', 'r'], ['p and q implies not r']))"
   ]
  },
  {
   "cell_type": "code",
   "execution_count": 14,
   "id": "9cccfa50",
   "metadata": {},
   "outputs": [
    {
     "name": "stdout",
     "output_type": "stream",
     "text": [
      "+-----+-------------+\n",
      "|  p  |  p = not p  |\n",
      "|-----+-------------|\n",
      "|  1  |      0      |\n",
      "|  0  |      0      |\n",
      "+-----+-------------+\n"
     ]
    }
   ],
   "source": [
    "#Ejercicio 13\n",
    "print(ttg.Truths([ 'p'], ['p = not p']))"
   ]
  },
  {
   "cell_type": "code",
   "execution_count": 15,
   "id": "103c7783",
   "metadata": {},
   "outputs": [
    {
     "name": "stdout",
     "output_type": "stream",
     "text": [
      "+-----+-----+---------------------------------------+\n",
      "|  p  |  q  |  not (p and not q) and (p and not q)  |\n",
      "|-----+-----+---------------------------------------|\n",
      "|  1  |  1  |                   0                   |\n",
      "|  1  |  0  |                   0                   |\n",
      "|  0  |  1  |                   0                   |\n",
      "|  0  |  0  |                   0                   |\n",
      "+-----+-----+---------------------------------------+\n"
     ]
    }
   ],
   "source": [
    "#Ejercicio 14\n",
    "print(ttg.Truths([ 'p' ,  'q'], ['not (p and not q) and (p and not q)']))"
   ]
  },
  {
   "cell_type": "code",
   "execution_count": 16,
   "id": "d6bc05a6",
   "metadata": {},
   "outputs": [
    {
     "name": "stdout",
     "output_type": "stream",
     "text": [
      "+-----+-----+------------------------------+\n",
      "|  p  |  q  |  not(not(p)) or not(not(q))  |\n",
      "|-----+-----+------------------------------|\n",
      "|  1  |  1  |              1               |\n",
      "|  1  |  0  |              1               |\n",
      "|  0  |  1  |              1               |\n",
      "|  0  |  0  |              0               |\n",
      "+-----+-----+------------------------------+\n"
     ]
    }
   ],
   "source": [
    "#Ejercicio 15\n",
    "print(ttg.Truths([ 'p' ,  'q'], ['not(not(p)) or not(not(q))']))"
   ]
  },
  {
   "cell_type": "code",
   "execution_count": 18,
   "id": "ac287cf5",
   "metadata": {},
   "outputs": [
    {
     "name": "stdout",
     "output_type": "stream",
     "text": [
      "+-----+-----+----------+\n",
      "|  p  |  q  |  p or q  |\n",
      "|-----+-----+----------|\n",
      "|  1  |  1  |    1     |\n",
      "|  1  |  0  |    1     |\n",
      "|  0  |  1  |    1     |\n",
      "|  0  |  0  |    0     |\n",
      "+-----+-----+----------+\n"
     ]
    }
   ],
   "source": [
    "#Ejercicio 16\n",
    "print(ttg.Truths([ 'p' ,  'q'], ['p or q']))"
   ]
  },
  {
   "cell_type": "code",
   "execution_count": 19,
   "id": "cf9d00e9",
   "metadata": {},
   "outputs": [
    {
     "name": "stdout",
     "output_type": "stream",
     "text": [
      "+-----+-----+-----+--------------+\n",
      "|  p  |  q  |  r  |  p = q or r  |\n",
      "|-----+-----+-----+--------------|\n",
      "|  1  |  1  |  1  |      1       |\n",
      "|  1  |  1  |  0  |      1       |\n",
      "|  1  |  0  |  1  |      1       |\n",
      "|  1  |  0  |  0  |      0       |\n",
      "|  0  |  1  |  1  |      0       |\n",
      "|  0  |  1  |  0  |      0       |\n",
      "|  0  |  0  |  1  |      0       |\n",
      "|  0  |  0  |  0  |      1       |\n",
      "+-----+-----+-----+--------------+\n"
     ]
    }
   ],
   "source": [
    "#Ejercicio 17\n",
    "print(ttg.Truths([ 'p' ,  'q', 'r'], ['p = q or r']))"
   ]
  },
  {
   "cell_type": "code",
   "execution_count": 35,
   "id": "f27f664b",
   "metadata": {},
   "outputs": [
    {
     "ename": "KeyError",
     "evalue": "True",
     "output_type": "error",
     "traceback": [
      "\u001b[1;31m---------------------------------------------------------------------------\u001b[0m",
      "\u001b[1;31mKeyError\u001b[0m                                  Traceback (most recent call last)",
      "Cell \u001b[1;32mIn[35], line 2\u001b[0m\n\u001b[0;32m      1\u001b[0m \u001b[38;5;66;03m#Ejercicio 18\u001b[39;00m\n\u001b[1;32m----> 2\u001b[0m \u001b[38;5;28mprint\u001b[39m(ttg\u001b[38;5;241m.\u001b[39mTruths([ \u001b[38;5;124m'\u001b[39m\u001b[38;5;124mp\u001b[39m\u001b[38;5;124m'\u001b[39m ,  \u001b[38;5;124m'\u001b[39m\u001b[38;5;124mq\u001b[39m\u001b[38;5;124m'\u001b[39m], [\u001b[38;5;124m'\u001b[39m\u001b[38;5;124m((not p or q) or (p and q)) implies ((not p or q) or (not p))\u001b[39m\u001b[38;5;124m'\u001b[39m]))\n",
      "File \u001b[1;32m~\\AppData\\Local\\anaconda3\\Lib\\site-packages\\ttg\\ttg.py:253\u001b[0m, in \u001b[0;36mTruths.__str__\u001b[1;34m(self)\u001b[0m\n\u001b[0;32m    252\u001b[0m \u001b[38;5;28;01mdef\u001b[39;00m \u001b[38;5;21m__str__\u001b[39m(\u001b[38;5;28mself\u001b[39m):\n\u001b[1;32m--> 253\u001b[0m     table \u001b[38;5;241m=\u001b[39m Truths\u001b[38;5;241m.\u001b[39mas_tabulate(\u001b[38;5;28mself\u001b[39m, index\u001b[38;5;241m=\u001b[39m\u001b[38;5;28;01mFalse\u001b[39;00m)\n\u001b[0;32m    254\u001b[0m     \u001b[38;5;28;01mreturn\u001b[39;00m \u001b[38;5;28mstr\u001b[39m(table)\n",
      "File \u001b[1;32m~\\AppData\\Local\\anaconda3\\Lib\\site-packages\\ttg\\ttg.py:224\u001b[0m, in \u001b[0;36mTruths.as_tabulate\u001b[1;34m(self, index, table_format, align)\u001b[0m\n\u001b[0;32m    220\u001b[0m \u001b[38;5;28;01mdef\u001b[39;00m \u001b[38;5;21mas_tabulate\u001b[39m(\u001b[38;5;28mself\u001b[39m, index\u001b[38;5;241m=\u001b[39m\u001b[38;5;28;01mTrue\u001b[39;00m, table_format\u001b[38;5;241m=\u001b[39m\u001b[38;5;124m'\u001b[39m\u001b[38;5;124mpsql\u001b[39m\u001b[38;5;124m'\u001b[39m, align\u001b[38;5;241m=\u001b[39m\u001b[38;5;124m'\u001b[39m\u001b[38;5;124mcenter\u001b[39m\u001b[38;5;124m'\u001b[39m):\n\u001b[0;32m    221\u001b[0m \u001b[38;5;250m    \u001b[39m\u001b[38;5;124;03m\"\"\"\u001b[39;00m\n\u001b[0;32m    222\u001b[0m \u001b[38;5;124;03m    Returns table using tabulate package\u001b[39;00m\n\u001b[0;32m    223\u001b[0m \u001b[38;5;124;03m    \"\"\"\u001b[39;00m\n\u001b[1;32m--> 224\u001b[0m     table \u001b[38;5;241m=\u001b[39m tabulate(Truths\u001b[38;5;241m.\u001b[39mas_pandas(\u001b[38;5;28mself\u001b[39m),\n\u001b[0;32m    225\u001b[0m                      headers\u001b[38;5;241m=\u001b[39m\u001b[38;5;124m'\u001b[39m\u001b[38;5;124mkeys\u001b[39m\u001b[38;5;124m'\u001b[39m,\n\u001b[0;32m    226\u001b[0m                      tablefmt\u001b[38;5;241m=\u001b[39mtable_format,\n\u001b[0;32m    227\u001b[0m                      showindex\u001b[38;5;241m=\u001b[39mindex,\n\u001b[0;32m    228\u001b[0m                      colalign\u001b[38;5;241m=\u001b[39m[align] \u001b[38;5;241m*\u001b[39m (\u001b[38;5;28mlen\u001b[39m(Truths\u001b[38;5;241m.\u001b[39mas_pandas(\u001b[38;5;28mself\u001b[39m)\u001b[38;5;241m.\u001b[39mcolumns) \u001b[38;5;241m+\u001b[39m index)  \u001b[38;5;66;03m# NOQA long\u001b[39;00m\n\u001b[0;32m    229\u001b[0m                      )\n\u001b[0;32m    230\u001b[0m     \u001b[38;5;28;01mreturn\u001b[39;00m table\n",
      "File \u001b[1;32m~\\AppData\\Local\\anaconda3\\Lib\\site-packages\\ttg\\ttg.py:216\u001b[0m, in \u001b[0;36mTruths.as_pandas\u001b[1;34m(self)\u001b[0m\n\u001b[0;32m    214\u001b[0m df \u001b[38;5;241m=\u001b[39m pd\u001b[38;5;241m.\u001b[39mDataFrame(columns\u001b[38;5;241m=\u001b[39mdf_columns)\n\u001b[0;32m    215\u001b[0m \u001b[38;5;28;01mfor\u001b[39;00m conditions_set \u001b[38;5;129;01min\u001b[39;00m \u001b[38;5;28mself\u001b[39m\u001b[38;5;241m.\u001b[39mbase_conditions:\n\u001b[1;32m--> 216\u001b[0m     df\u001b[38;5;241m.\u001b[39mloc[\u001b[38;5;28mlen\u001b[39m(df)] \u001b[38;5;241m=\u001b[39m \u001b[38;5;28mself\u001b[39m\u001b[38;5;241m.\u001b[39mcalculate(\u001b[38;5;241m*\u001b[39mconditions_set)\n\u001b[0;32m    217\u001b[0m df\u001b[38;5;241m.\u001b[39mindex \u001b[38;5;241m=\u001b[39m np\u001b[38;5;241m.\u001b[39marange(\u001b[38;5;241m1\u001b[39m, \u001b[38;5;28mlen\u001b[39m(df) \u001b[38;5;241m+\u001b[39m \u001b[38;5;241m1\u001b[39m)  \u001b[38;5;66;03m# index starting in one\u001b[39;00m\n\u001b[0;32m    218\u001b[0m \u001b[38;5;28;01mreturn\u001b[39;00m df\n",
      "File \u001b[1;32m~\\AppData\\Local\\anaconda3\\Lib\\site-packages\\ttg\\ttg.py:191\u001b[0m, in \u001b[0;36mTruths.calculate\u001b[1;34m(self, *args)\u001b[0m\n\u001b[0;32m    189\u001b[0m     interpreted \u001b[38;5;241m=\u001b[39m group_operations(interpreted)\n\u001b[0;32m    190\u001b[0m     \u001b[38;5;66;03m# evaluate the phrase\u001b[39;00m\n\u001b[1;32m--> 191\u001b[0m     eval_phrases\u001b[38;5;241m.\u001b[39mappend(solve_phrase(interpreted))\n\u001b[0;32m    193\u001b[0m \u001b[38;5;66;03m# add the bases and evaluated phrases to create a single row\u001b[39;00m\n\u001b[0;32m    194\u001b[0m row \u001b[38;5;241m=\u001b[39m [val \u001b[38;5;28;01mfor\u001b[39;00m key, val \u001b[38;5;129;01min\u001b[39;00m bools\u001b[38;5;241m.\u001b[39mitems()] \u001b[38;5;241m+\u001b[39m eval_phrases\n",
      "File \u001b[1;32m~\\AppData\\Local\\anaconda3\\Lib\\site-packages\\ttg\\ttg.py:102\u001b[0m, in \u001b[0;36msolve_phrase\u001b[1;34m(phrase)\u001b[0m\n\u001b[0;32m     99\u001b[0m     \u001b[38;5;28;01mreturn\u001b[39;00m OPERATIONS[phrase[\u001b[38;5;241m0\u001b[39m]](solve_phrase(phrase[\u001b[38;5;241m1\u001b[39m]))\n\u001b[0;32m    100\u001b[0m \u001b[38;5;66;03m# double operand operation\u001b[39;00m\n\u001b[0;32m    101\u001b[0m \u001b[38;5;28;01melse\u001b[39;00m:\n\u001b[1;32m--> 102\u001b[0m     \u001b[38;5;28;01mreturn\u001b[39;00m OPERATIONS[phrase[\u001b[38;5;241m1\u001b[39m]](solve_phrase(phrase[\u001b[38;5;241m0\u001b[39m]),\n\u001b[0;32m    103\u001b[0m                                  solve_phrase([phrase[\u001b[38;5;241m2\u001b[39m]]))\n",
      "File \u001b[1;32m~\\AppData\\Local\\anaconda3\\Lib\\site-packages\\ttg\\ttg.py:102\u001b[0m, in \u001b[0;36msolve_phrase\u001b[1;34m(phrase)\u001b[0m\n\u001b[0;32m     99\u001b[0m     \u001b[38;5;28;01mreturn\u001b[39;00m OPERATIONS[phrase[\u001b[38;5;241m0\u001b[39m]](solve_phrase(phrase[\u001b[38;5;241m1\u001b[39m]))\n\u001b[0;32m    100\u001b[0m \u001b[38;5;66;03m# double operand operation\u001b[39;00m\n\u001b[0;32m    101\u001b[0m \u001b[38;5;28;01melse\u001b[39;00m:\n\u001b[1;32m--> 102\u001b[0m     \u001b[38;5;28;01mreturn\u001b[39;00m OPERATIONS[phrase[\u001b[38;5;241m1\u001b[39m]](solve_phrase(phrase[\u001b[38;5;241m0\u001b[39m]),\n\u001b[0;32m    103\u001b[0m                                  solve_phrase([phrase[\u001b[38;5;241m2\u001b[39m]]))\n",
      "File \u001b[1;32m~\\AppData\\Local\\anaconda3\\Lib\\site-packages\\ttg\\ttg.py:102\u001b[0m, in \u001b[0;36msolve_phrase\u001b[1;34m(phrase)\u001b[0m\n\u001b[0;32m     99\u001b[0m     \u001b[38;5;28;01mreturn\u001b[39;00m OPERATIONS[phrase[\u001b[38;5;241m0\u001b[39m]](solve_phrase(phrase[\u001b[38;5;241m1\u001b[39m]))\n\u001b[0;32m    100\u001b[0m \u001b[38;5;66;03m# double operand operation\u001b[39;00m\n\u001b[0;32m    101\u001b[0m \u001b[38;5;28;01melse\u001b[39;00m:\n\u001b[1;32m--> 102\u001b[0m     \u001b[38;5;28;01mreturn\u001b[39;00m OPERATIONS[phrase[\u001b[38;5;241m1\u001b[39m]](solve_phrase(phrase[\u001b[38;5;241m0\u001b[39m]),\n\u001b[0;32m    103\u001b[0m                                  solve_phrase([phrase[\u001b[38;5;241m2\u001b[39m]]))\n",
      "\u001b[1;31mKeyError\u001b[0m: True"
     ]
    }
   ],
   "source": [
    "#Ejercicio 18\n",
    "print(ttg.Truths([ 'p' ,  'q'], ['((not p or q) or (p and q)) implies ((not p or q) or (not p))']))"
   ]
  },
  {
   "cell_type": "code",
   "execution_count": 36,
   "id": "f001357a",
   "metadata": {},
   "outputs": [
    {
     "name": "stdout",
     "output_type": "stream",
     "text": [
      "+-----+-----+--------------------------------------------------+\n",
      "|  p  |  q  |  (p or not q) implies ((not p) implies (not q))  |\n",
      "|-----+-----+--------------------------------------------------|\n",
      "|  1  |  1  |                        1                         |\n",
      "|  1  |  0  |                        1                         |\n",
      "|  0  |  1  |                        1                         |\n",
      "|  0  |  0  |                        1                         |\n",
      "+-----+-----+--------------------------------------------------+\n"
     ]
    }
   ],
   "source": [
    "#Ejercicio 19\n",
    "print(ttg.Truths([ 'p' ,  'q'], ['(p or not q) implies ((not p) implies (not q))']))"
   ]
  },
  {
   "cell_type": "code",
   "execution_count": 27,
   "id": "c17425b4",
   "metadata": {},
   "outputs": [
    {
     "name": "stdout",
     "output_type": "stream",
     "text": [
      "+-----+-----+-------------------------------+\n",
      "|  p  |  q  |  (p = not q) or (p or not q)  |\n",
      "|-----+-----+-------------------------------|\n",
      "|  1  |  1  |               1               |\n",
      "|  1  |  0  |               1               |\n",
      "|  0  |  1  |               1               |\n",
      "|  0  |  0  |               1               |\n",
      "+-----+-----+-------------------------------+\n"
     ]
    }
   ],
   "source": [
    "#Ejercicio 20\n",
    "print(ttg.Truths([ 'p' ,  'q'], ['(p = not q) or (p or not q)']))"
   ]
  },
  {
   "cell_type": "code",
   "execution_count": 28,
   "id": "d429b2d7",
   "metadata": {},
   "outputs": [
    {
     "name": "stdout",
     "output_type": "stream",
     "text": [
      "+-----+-----+--------------------------------------+\n",
      "|  p  |  q  |  (not p and q) or (not p implies q)  |\n",
      "|-----+-----+--------------------------------------|\n",
      "|  1  |  1  |                  1                   |\n",
      "|  1  |  0  |                  1                   |\n",
      "|  0  |  1  |                  1                   |\n",
      "|  0  |  0  |                  0                   |\n",
      "+-----+-----+--------------------------------------+\n"
     ]
    }
   ],
   "source": [
    "#Ejercicio 21\n",
    "print(ttg.Truths([ 'p' ,  'q'], ['(not p and q) or (not p implies q)']))"
   ]
  },
  {
   "cell_type": "code",
   "execution_count": 29,
   "id": "7cfeaf6f",
   "metadata": {},
   "outputs": [
    {
     "name": "stdout",
     "output_type": "stream",
     "text": [
      "+-----+-----+------------------+\n",
      "|  p  |  q  |  not q or not p  |\n",
      "|-----+-----+------------------|\n",
      "|  1  |  1  |        0         |\n",
      "|  1  |  0  |        1         |\n",
      "|  0  |  1  |        1         |\n",
      "|  0  |  0  |        1         |\n",
      "+-----+-----+------------------+\n"
     ]
    }
   ],
   "source": [
    "#Ejercicio 22\n",
    "print(ttg.Truths([ 'p' ,  'q'], ['not q or not p']))"
   ]
  },
  {
   "cell_type": "code",
   "execution_count": 30,
   "id": "4e74929a",
   "metadata": {},
   "outputs": [
    {
     "name": "stdout",
     "output_type": "stream",
     "text": [
      "+-----+-----+-----+---------------------------------------------------+\n",
      "|  p  |  q  |  r  |  (p implies q and r) = not (not q or r) or not r  |\n",
      "|-----+-----+-----+---------------------------------------------------|\n",
      "|  1  |  1  |  1  |                         0                         |\n",
      "|  1  |  1  |  0  |                         1                         |\n",
      "|  1  |  0  |  1  |                         1                         |\n",
      "|  1  |  0  |  0  |                         0                         |\n",
      "|  0  |  1  |  1  |                         0                         |\n",
      "|  0  |  1  |  0  |                         1                         |\n",
      "|  0  |  0  |  1  |                         0                         |\n",
      "|  0  |  0  |  0  |                         1                         |\n",
      "+-----+-----+-----+---------------------------------------------------+\n"
     ]
    }
   ],
   "source": [
    "#Ejercicio 23\n",
    "print(ttg.Truths([ 'p' ,  'q', 'r'], ['(p implies q and r) = not (not q or r) or not r']))"
   ]
  },
  {
   "cell_type": "code",
   "execution_count": 38,
   "id": "4d3640b7",
   "metadata": {},
   "outputs": [
    {
     "ename": "KeyError",
     "evalue": "True",
     "output_type": "error",
     "traceback": [
      "\u001b[1;31m---------------------------------------------------------------------------\u001b[0m",
      "\u001b[1;31mKeyError\u001b[0m                                  Traceback (most recent call last)",
      "Cell \u001b[1;32mIn[38], line 2\u001b[0m\n\u001b[0;32m      1\u001b[0m \u001b[38;5;66;03m#Ejercicio 24\u001b[39;00m\n\u001b[1;32m----> 2\u001b[0m \u001b[38;5;28mprint\u001b[39m(ttg\u001b[38;5;241m.\u001b[39mTruths([ \u001b[38;5;124m'\u001b[39m\u001b[38;5;124mp\u001b[39m\u001b[38;5;124m'\u001b[39m ,  \u001b[38;5;124m'\u001b[39m\u001b[38;5;124mq\u001b[39m\u001b[38;5;124m'\u001b[39m, \u001b[38;5;124m'\u001b[39m\u001b[38;5;124mr\u001b[39m\u001b[38;5;124m'\u001b[39m], [\u001b[38;5;124m'\u001b[39m\u001b[38;5;124m((not q and r) implies not ((not q or r) or not r))\u001b[39m\u001b[38;5;124m'\u001b[39m]))\n",
      "File \u001b[1;32m~\\AppData\\Local\\anaconda3\\Lib\\site-packages\\ttg\\ttg.py:253\u001b[0m, in \u001b[0;36mTruths.__str__\u001b[1;34m(self)\u001b[0m\n\u001b[0;32m    252\u001b[0m \u001b[38;5;28;01mdef\u001b[39;00m \u001b[38;5;21m__str__\u001b[39m(\u001b[38;5;28mself\u001b[39m):\n\u001b[1;32m--> 253\u001b[0m     table \u001b[38;5;241m=\u001b[39m Truths\u001b[38;5;241m.\u001b[39mas_tabulate(\u001b[38;5;28mself\u001b[39m, index\u001b[38;5;241m=\u001b[39m\u001b[38;5;28;01mFalse\u001b[39;00m)\n\u001b[0;32m    254\u001b[0m     \u001b[38;5;28;01mreturn\u001b[39;00m \u001b[38;5;28mstr\u001b[39m(table)\n",
      "File \u001b[1;32m~\\AppData\\Local\\anaconda3\\Lib\\site-packages\\ttg\\ttg.py:224\u001b[0m, in \u001b[0;36mTruths.as_tabulate\u001b[1;34m(self, index, table_format, align)\u001b[0m\n\u001b[0;32m    220\u001b[0m \u001b[38;5;28;01mdef\u001b[39;00m \u001b[38;5;21mas_tabulate\u001b[39m(\u001b[38;5;28mself\u001b[39m, index\u001b[38;5;241m=\u001b[39m\u001b[38;5;28;01mTrue\u001b[39;00m, table_format\u001b[38;5;241m=\u001b[39m\u001b[38;5;124m'\u001b[39m\u001b[38;5;124mpsql\u001b[39m\u001b[38;5;124m'\u001b[39m, align\u001b[38;5;241m=\u001b[39m\u001b[38;5;124m'\u001b[39m\u001b[38;5;124mcenter\u001b[39m\u001b[38;5;124m'\u001b[39m):\n\u001b[0;32m    221\u001b[0m \u001b[38;5;250m    \u001b[39m\u001b[38;5;124;03m\"\"\"\u001b[39;00m\n\u001b[0;32m    222\u001b[0m \u001b[38;5;124;03m    Returns table using tabulate package\u001b[39;00m\n\u001b[0;32m    223\u001b[0m \u001b[38;5;124;03m    \"\"\"\u001b[39;00m\n\u001b[1;32m--> 224\u001b[0m     table \u001b[38;5;241m=\u001b[39m tabulate(Truths\u001b[38;5;241m.\u001b[39mas_pandas(\u001b[38;5;28mself\u001b[39m),\n\u001b[0;32m    225\u001b[0m                      headers\u001b[38;5;241m=\u001b[39m\u001b[38;5;124m'\u001b[39m\u001b[38;5;124mkeys\u001b[39m\u001b[38;5;124m'\u001b[39m,\n\u001b[0;32m    226\u001b[0m                      tablefmt\u001b[38;5;241m=\u001b[39mtable_format,\n\u001b[0;32m    227\u001b[0m                      showindex\u001b[38;5;241m=\u001b[39mindex,\n\u001b[0;32m    228\u001b[0m                      colalign\u001b[38;5;241m=\u001b[39m[align] \u001b[38;5;241m*\u001b[39m (\u001b[38;5;28mlen\u001b[39m(Truths\u001b[38;5;241m.\u001b[39mas_pandas(\u001b[38;5;28mself\u001b[39m)\u001b[38;5;241m.\u001b[39mcolumns) \u001b[38;5;241m+\u001b[39m index)  \u001b[38;5;66;03m# NOQA long\u001b[39;00m\n\u001b[0;32m    229\u001b[0m                      )\n\u001b[0;32m    230\u001b[0m     \u001b[38;5;28;01mreturn\u001b[39;00m table\n",
      "File \u001b[1;32m~\\AppData\\Local\\anaconda3\\Lib\\site-packages\\ttg\\ttg.py:216\u001b[0m, in \u001b[0;36mTruths.as_pandas\u001b[1;34m(self)\u001b[0m\n\u001b[0;32m    214\u001b[0m df \u001b[38;5;241m=\u001b[39m pd\u001b[38;5;241m.\u001b[39mDataFrame(columns\u001b[38;5;241m=\u001b[39mdf_columns)\n\u001b[0;32m    215\u001b[0m \u001b[38;5;28;01mfor\u001b[39;00m conditions_set \u001b[38;5;129;01min\u001b[39;00m \u001b[38;5;28mself\u001b[39m\u001b[38;5;241m.\u001b[39mbase_conditions:\n\u001b[1;32m--> 216\u001b[0m     df\u001b[38;5;241m.\u001b[39mloc[\u001b[38;5;28mlen\u001b[39m(df)] \u001b[38;5;241m=\u001b[39m \u001b[38;5;28mself\u001b[39m\u001b[38;5;241m.\u001b[39mcalculate(\u001b[38;5;241m*\u001b[39mconditions_set)\n\u001b[0;32m    217\u001b[0m df\u001b[38;5;241m.\u001b[39mindex \u001b[38;5;241m=\u001b[39m np\u001b[38;5;241m.\u001b[39marange(\u001b[38;5;241m1\u001b[39m, \u001b[38;5;28mlen\u001b[39m(df) \u001b[38;5;241m+\u001b[39m \u001b[38;5;241m1\u001b[39m)  \u001b[38;5;66;03m# index starting in one\u001b[39;00m\n\u001b[0;32m    218\u001b[0m \u001b[38;5;28;01mreturn\u001b[39;00m df\n",
      "File \u001b[1;32m~\\AppData\\Local\\anaconda3\\Lib\\site-packages\\ttg\\ttg.py:191\u001b[0m, in \u001b[0;36mTruths.calculate\u001b[1;34m(self, *args)\u001b[0m\n\u001b[0;32m    189\u001b[0m     interpreted \u001b[38;5;241m=\u001b[39m group_operations(interpreted)\n\u001b[0;32m    190\u001b[0m     \u001b[38;5;66;03m# evaluate the phrase\u001b[39;00m\n\u001b[1;32m--> 191\u001b[0m     eval_phrases\u001b[38;5;241m.\u001b[39mappend(solve_phrase(interpreted))\n\u001b[0;32m    193\u001b[0m \u001b[38;5;66;03m# add the bases and evaluated phrases to create a single row\u001b[39;00m\n\u001b[0;32m    194\u001b[0m row \u001b[38;5;241m=\u001b[39m [val \u001b[38;5;28;01mfor\u001b[39;00m key, val \u001b[38;5;129;01min\u001b[39;00m bools\u001b[38;5;241m.\u001b[39mitems()] \u001b[38;5;241m+\u001b[39m eval_phrases\n",
      "File \u001b[1;32m~\\AppData\\Local\\anaconda3\\Lib\\site-packages\\ttg\\ttg.py:96\u001b[0m, in \u001b[0;36msolve_phrase\u001b[1;34m(phrase)\u001b[0m\n\u001b[0;32m     93\u001b[0m \u001b[38;5;28;01mif\u001b[39;00m \u001b[38;5;28misinstance\u001b[39m(phrase, \u001b[38;5;28mlist\u001b[39m):\n\u001b[0;32m     94\u001b[0m     \u001b[38;5;66;03m# list with just a list in it\u001b[39;00m\n\u001b[0;32m     95\u001b[0m     \u001b[38;5;28;01mif\u001b[39;00m \u001b[38;5;28mlen\u001b[39m(phrase) \u001b[38;5;241m==\u001b[39m \u001b[38;5;241m1\u001b[39m:\n\u001b[1;32m---> 96\u001b[0m         \u001b[38;5;28;01mreturn\u001b[39;00m solve_phrase(phrase[\u001b[38;5;241m0\u001b[39m])\n\u001b[0;32m     97\u001b[0m     \u001b[38;5;66;03m# single operand operation\u001b[39;00m\n\u001b[0;32m     98\u001b[0m     \u001b[38;5;28;01mif\u001b[39;00m \u001b[38;5;28mlen\u001b[39m(phrase) \u001b[38;5;241m==\u001b[39m \u001b[38;5;241m2\u001b[39m:\n",
      "File \u001b[1;32m~\\AppData\\Local\\anaconda3\\Lib\\site-packages\\ttg\\ttg.py:102\u001b[0m, in \u001b[0;36msolve_phrase\u001b[1;34m(phrase)\u001b[0m\n\u001b[0;32m     99\u001b[0m     \u001b[38;5;28;01mreturn\u001b[39;00m OPERATIONS[phrase[\u001b[38;5;241m0\u001b[39m]](solve_phrase(phrase[\u001b[38;5;241m1\u001b[39m]))\n\u001b[0;32m    100\u001b[0m \u001b[38;5;66;03m# double operand operation\u001b[39;00m\n\u001b[0;32m    101\u001b[0m \u001b[38;5;28;01melse\u001b[39;00m:\n\u001b[1;32m--> 102\u001b[0m     \u001b[38;5;28;01mreturn\u001b[39;00m OPERATIONS[phrase[\u001b[38;5;241m1\u001b[39m]](solve_phrase(phrase[\u001b[38;5;241m0\u001b[39m]),\n\u001b[0;32m    103\u001b[0m                                  solve_phrase([phrase[\u001b[38;5;241m2\u001b[39m]]))\n",
      "File \u001b[1;32m~\\AppData\\Local\\anaconda3\\Lib\\site-packages\\ttg\\ttg.py:102\u001b[0m, in \u001b[0;36msolve_phrase\u001b[1;34m(phrase)\u001b[0m\n\u001b[0;32m     99\u001b[0m     \u001b[38;5;28;01mreturn\u001b[39;00m OPERATIONS[phrase[\u001b[38;5;241m0\u001b[39m]](solve_phrase(phrase[\u001b[38;5;241m1\u001b[39m]))\n\u001b[0;32m    100\u001b[0m \u001b[38;5;66;03m# double operand operation\u001b[39;00m\n\u001b[0;32m    101\u001b[0m \u001b[38;5;28;01melse\u001b[39;00m:\n\u001b[1;32m--> 102\u001b[0m     \u001b[38;5;28;01mreturn\u001b[39;00m OPERATIONS[phrase[\u001b[38;5;241m1\u001b[39m]](solve_phrase(phrase[\u001b[38;5;241m0\u001b[39m]),\n\u001b[0;32m    103\u001b[0m                                  solve_phrase([phrase[\u001b[38;5;241m2\u001b[39m]]))\n",
      "\u001b[1;31mKeyError\u001b[0m: True"
     ]
    }
   ],
   "source": [
    "#Ejercicio 24\n",
    "print(ttg.Truths([ 'p' ,  'q', 'r'], ['((not q and r) implies not ((not q or r) or not r))']))"
   ]
  },
  {
   "cell_type": "code",
   "execution_count": null,
   "id": "78854e71",
   "metadata": {},
   "outputs": [],
   "source": [
    "#Ejercicio 25\n",
    "print(ttg.Truths([ 'p' ,  'q', 'r'], ['(p implies q) and r implies']))"
   ]
  }
 ],
 "metadata": {
  "kernelspec": {
   "display_name": "Python 3 (ipykernel)",
   "language": "python",
   "name": "python3"
  },
  "language_info": {
   "codemirror_mode": {
    "name": "ipython",
    "version": 3
   },
   "file_extension": ".py",
   "mimetype": "text/x-python",
   "name": "python",
   "nbconvert_exporter": "python",
   "pygments_lexer": "ipython3",
   "version": "3.11.4"
  }
 },
 "nbformat": 4,
 "nbformat_minor": 5
}
